{
 "cells": [
  {
   "cell_type": "markdown",
   "id": "b9ef83aa",
   "metadata": {},
   "source": [
    "**Test assignment from the company Thumos** "
   ]
  },
  {
   "cell_type": "markdown",
   "id": "8edbf267",
   "metadata": {},
   "source": [
    "Test case №1:\n",
    "\n",
    "We extracted data from GCP. The dataset contains 4 million rows, but we were only able to extract them in small portions, about 40,000 rows in CSV format. In total, we ended up with 110 files. The files are named as follows:\n",
    "\n",
    "data_000000000001.csv\n",
    "data_000000000002.csv\n",
    "…..\n",
    "data_000000000010.csv\n",
    "data_000000000011.csv\n",
    "……\n",
    "data_000000000100.csv\n",
    "data_000000000101.csv\n",
    "….\n",
    "data_000000000110.csv\n",
    "\n",
    "Please suggest a method for uploading all these 110 files using Jupyter Notebook (or another) and merging them into a single dataset for further processing."
   ]
  },
  {
   "cell_type": "code",
   "execution_count": null,
   "id": "5f3f1c85",
   "metadata": {},
   "outputs": [],
   "source": [
    "# Decision\n",
    "# Importing the necessary libraries\n",
    "import pandas as pd\n",
    "import glob\n",
    "\n",
    "# Getting a list of CSV files in the current directory\n",
    "# We will use the glob module to get a list of files in a given directory that match a given file name pattern\n",
    "files = glob.glob('way_to_files/data_*.csv')\n",
    "\n",
    "# Creating an empty Data Frame into which we will combine the data\n",
    "combined_data = pd.DataFrame()\n",
    "\n",
    "# Let's create a loop in which each file is read and combined with the main Data Frame\n",
    "for file in files:\n",
    "    df = pd.read_csv(file)\n",
    "    combined_data = pd.concat([combined_data, df], ignore_index=True)\n",
    "    \n",
    "# Displaying the first few lines of the combined Data Frame\n",
    "print(combined_data.head())\n"
   ]
  }
 ],
 "metadata": {
  "kernelspec": {
   "display_name": "Python 3 (ipykernel)",
   "language": "python",
   "name": "python3"
  },
  "language_info": {
   "codemirror_mode": {
    "name": "ipython",
    "version": 3
   },
   "file_extension": ".py",
   "mimetype": "text/x-python",
   "name": "python",
   "nbconvert_exporter": "python",
   "pygments_lexer": "ipython3",
   "version": "3.9.16"
  }
 },
 "nbformat": 4,
 "nbformat_minor": 5
}
